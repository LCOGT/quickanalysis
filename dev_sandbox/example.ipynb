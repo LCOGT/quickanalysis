{
 "metadata": {
  "orig_nbformat": 2,
  "kernelspec": {
   "name": "python392jvsc74a57bd0254f615835e5fe48096a7cd2ca9b20e5335c54b5ae5230eaf09450a2ad6f2717",
   "display_name": "Python 3.9.2 64-bit ('venv1': venv)"
  }
 },
 "nbformat": 4,
 "nbformat_minor": 2,
 "cells": [
  {
   "source": [
    "### Example notebook\n",
    "\n",
    "This is a convenient place to debug things or test out new development features.\n",
    "\n",
    "This notebook is commited to the repository as an example, but all other files in this directory are ignored by git (per `.gitignore`)"
   ],
   "cell_type": "markdown",
   "metadata": {}
  },
  {
   "cell_type": "code",
   "execution_count": 1,
   "metadata": {},
   "outputs": [],
   "source": [
    "# We need this in order to perform imports from the quickanalysis module\n",
    "import os\n",
    "import sys\n",
    "module_path = os.path.abspath(os.path.join('..'))\n",
    "if module_path not in sys.path:\n",
    "    sys.path.append(module_path)\n",
    "    "
   ]
  },
  {
   "cell_type": "code",
   "execution_count": 2,
   "metadata": {},
   "outputs": [
    {
     "output_type": "error",
     "ename": "ModuleNotFoundError",
     "evalue": "No module named 'boto3'",
     "traceback": [
      "\u001b[0;31m---------------------------------------------------------------------------\u001b[0m",
      "\u001b[0;31mModuleNotFoundError\u001b[0m                       Traceback (most recent call last)",
      "\u001b[0;32m<ipython-input-2-fc2a2ea6604a>\u001b[0m in \u001b[0;36m<module>\u001b[0;34m\u001b[0m\n\u001b[0;32m----> 1\u001b[0;31m \u001b[0;32mfrom\u001b[0m \u001b[0mquickanalysis\u001b[0m\u001b[0;34m.\u001b[0m\u001b[0mutils\u001b[0m\u001b[0;34m.\u001b[0m\u001b[0mload_data\u001b[0m \u001b[0;32mimport\u001b[0m \u001b[0mget_image_data\u001b[0m\u001b[0;34m\u001b[0m\u001b[0;34m\u001b[0m\u001b[0m\n\u001b[0m\u001b[1;32m      2\u001b[0m \u001b[0;32mfrom\u001b[0m \u001b[0mauto_stretch\u001b[0m\u001b[0;34m.\u001b[0m\u001b[0mstretch\u001b[0m \u001b[0;32mimport\u001b[0m \u001b[0mStretch\u001b[0m\u001b[0;34m\u001b[0m\u001b[0;34m\u001b[0m\u001b[0m\n\u001b[1;32m      3\u001b[0m \u001b[0;32mfrom\u001b[0m \u001b[0mmatplotlib\u001b[0m\u001b[0;34m.\u001b[0m\u001b[0mfigure\u001b[0m \u001b[0;32mimport\u001b[0m \u001b[0mFigure\u001b[0m\u001b[0;34m\u001b[0m\u001b[0;34m\u001b[0m\u001b[0m\n\u001b[1;32m      4\u001b[0m \u001b[0;32mimport\u001b[0m \u001b[0mmatplotlib\u001b[0m\u001b[0;34m.\u001b[0m\u001b[0mpyplot\u001b[0m \u001b[0;32mas\u001b[0m \u001b[0mplt\u001b[0m\u001b[0;34m\u001b[0m\u001b[0;34m\u001b[0m\u001b[0m\n\u001b[1;32m      5\u001b[0m \u001b[0;34m\u001b[0m\u001b[0m\n",
      "\u001b[0;32m~/code/quickanalysis/histogram-and-stats/quickanalysis/utils/load_data.py\u001b[0m in \u001b[0;36m<module>\u001b[0;34m\u001b[0m\n\u001b[0;32m----> 1\u001b[0;31m \u001b[0;32mimport\u001b[0m \u001b[0mboto3\u001b[0m\u001b[0;34m\u001b[0m\u001b[0;34m\u001b[0m\u001b[0m\n\u001b[0m\u001b[1;32m      2\u001b[0m \u001b[0;32mimport\u001b[0m \u001b[0mnumpy\u001b[0m \u001b[0;32mas\u001b[0m \u001b[0mnp\u001b[0m\u001b[0;34m\u001b[0m\u001b[0;34m\u001b[0m\u001b[0m\n\u001b[1;32m      3\u001b[0m \u001b[0;32mfrom\u001b[0m \u001b[0mastropy\u001b[0m\u001b[0;34m.\u001b[0m\u001b[0mio\u001b[0m \u001b[0;32mimport\u001b[0m \u001b[0mfits\u001b[0m\u001b[0;34m\u001b[0m\u001b[0;34m\u001b[0m\u001b[0m\n\u001b[1;32m      4\u001b[0m \u001b[0;32mfrom\u001b[0m \u001b[0mcachetools\u001b[0m \u001b[0;32mimport\u001b[0m \u001b[0mcached\u001b[0m\u001b[0;34m,\u001b[0m \u001b[0mTTLCache\u001b[0m\u001b[0;34m\u001b[0m\u001b[0;34m\u001b[0m\u001b[0m\n\u001b[1;32m      5\u001b[0m \u001b[0;34m\u001b[0m\u001b[0m\n",
      "\u001b[0;31mModuleNotFoundError\u001b[0m: No module named 'boto3'"
     ]
    }
   ],
   "source": [
    "from quickanalysis.utils.load_data import get_image_data\n",
    "from auto_stretch.stretch import Stretch\n",
    "from matplotlib.figure import Figure\n",
    "import matplotlib.pyplot as plt \n",
    "\n",
    "# Example file\n",
    "filename = \"saf-sq01-20210117-00007670-EX10.fits.bz2\"\n",
    "filename = \"tst-inst-20210515-00000164-EX10.fits.bz2\"\n",
    "\n",
    "\n",
    "image_array = get_image_data(filename)\n",
    "\n",
    "# Visualize the data\n",
    "fig, axis = plt.subplots(1, 2, figsize=(20,10))\n",
    "axis[0].set_title(\"plot title\")\n",
    "axis[0].set_xlabel(\"x-axis\")\n",
    "axis[0].set_ylabel(\"y-axis\")\n",
    "axis[0].grid()\n",
    "axis[0].imshow(Stretch().stretch(image_array), cmap='Greys')\n",
    "axis[1].imshow(Stretch().stretch(image_array))  # side by side plots\n"
   ]
  },
  {
   "cell_type": "code",
   "execution_count": null,
   "metadata": {},
   "outputs": [],
   "source": []
  }
 ]
}